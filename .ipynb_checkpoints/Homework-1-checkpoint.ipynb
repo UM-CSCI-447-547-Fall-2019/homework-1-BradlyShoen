{
 "cells": [
  {
   "cell_type": "code",
   "execution_count": 74,
   "metadata": {},
   "outputs": [],
   "source": [
    "%matplotlib inline"
   ]
  },
  {
   "cell_type": "markdown",
   "metadata": {},
   "source": [
    "# Homework 1: Reading data and regression\n",
    "## Due September 5th\n",
    "\n",
    "In class we've been working on developing the tools for linear regression.  In this homework, we'll use those tools to show that one of the original 'big data' problems can be solved quite credibly with ordinary least squares.  Note that this exercise is primarily intended to do two things: 1) provide you with some practice gathering data, and 2) evaluate your ability to reason somewhat abstractly about models.  With respect to the second point, it is in your grade's interest to provide complete and well-reasoned answers to narrative questions posed.  A correct answer can be awarded very few points if its reasoning is absent or unclear, and an incorrect answer can be awarded full points if it is well argued.   \n",
    "\n",
    "Please turn in your work via github classroom.\n",
    "\n",
    "## The big one\n",
    "If you've ever lived in an area prone to seismic activity, you know that people are always a little apprehensive about *the big one*, that giant earthquake (Magnitude greater than 7) that is going to break the pots and collapse the overpasses.  However, the big one rarely happens... until it does.  What happens more frequently is smaller earthquakes.  And even more frequently than that, even smaller earthquakes.  In fact, it's long been understood that earthquake frequency has an inverse relationship with magnitude.  Here, we're going to quantify that relationship for the west coast of the US.  \n",
    "\n",
    "## Data wrangling\n",
    "The first thing that we'll need to do is to aquire a dataset that can help us say something about earthquake frequency.  Fortunately, the United States Geologic Survey keeps such a database.  \n",
    "\n",
    "First, navigate to https://earthquake.usgs.gov/earthquakes/search/.  This is the USGS' central repository for earthquake data.  We'll be interested in data from the last twenty years.  Enter the appropriate date.  Next, we're interested in data from the west coast of the lower 48.  Use the Custom Geographic Region button on the right side of the page, followed by the Draw Rectangle on the Map button.  Draw a rectangle around the west coast, from the Canadian to Mexican border.  Next, open the Output Options tab and select .csv (comma separated values, a plain text format).  Finally, under Limit Results, enter 19999 (the site will throw an error if you make this value bigger).  This series of commands will deliver the ~20k most recent earthquakes of all sizes to occur in this region of the world.  It may take a moment for their server to pull your query together. Download the file.\n",
    "\n",
    "Next, import the data into ipython.  This is easily done with [Pandas' read_csv function](https://pandas.pydata.org/pandas-docs/stable/reference/api/pandas.read_csv.html)."
   ]
  },
  {
   "cell_type": "code",
   "execution_count": 75,
   "metadata": {},
   "outputs": [],
   "source": [
    "# Use pandas to import the earthquake data file here\n",
    "import pandas as pd\n",
    "data = pd.read_csv('query.csv')"
   ]
  },
  {
   "cell_type": "markdown",
   "metadata": {},
   "source": [
    "Interrogate the Pandas dataframe for the available fields using its built in method 'keys'\n"
   ]
  },
  {
   "cell_type": "code",
   "execution_count": 76,
   "metadata": {},
   "outputs": [
    {
     "data": {
      "text/plain": [
       "<bound method NDFrame.keys of                            time   latitude   longitude  depth   mag magType  \\\n",
       "0      2019-09-03T15:05:01.400Z  39.134834 -123.589668 -0.020  3.35      ml   \n",
       "1      2019-09-03T12:41:59.250Z  35.645833 -117.496167  4.520  2.64      ml   \n",
       "2      2019-09-03T08:23:33.250Z  36.199000 -117.885000  2.540  2.59      ml   \n",
       "3      2019-09-03T03:41:29.170Z  35.703000 -117.588667  7.100  3.47      mw   \n",
       "4      2019-09-03T03:28:37.320Z  35.631000 -117.434333  2.970  2.67      ml   \n",
       "...                         ...        ...         ...    ...   ...     ...   \n",
       "19994  2010-04-24T03:54:33.020Z  32.141667 -115.255333  9.389  2.50      ml   \n",
       "19995  2010-04-24T03:25:41.590Z  31.927167 -115.090833  9.246  3.00      ml   \n",
       "19996  2010-04-24T03:05:40.470Z  31.961000 -114.914333  8.949  2.64      ml   \n",
       "19997  2010-04-24T03:02:05.770Z  32.674167 -115.779333  9.115  2.68      ml   \n",
       "19998  2010-04-24T01:48:33.620Z  32.173167 -115.274333  8.730  2.57      ml   \n",
       "\n",
       "        nst    gap     dmin   rms  ...                   updated  \\\n",
       "0      24.0  161.0  0.07471  0.15  ...  2019-09-03T19:10:40.014Z   \n",
       "1      38.0   37.0  0.04620  0.18  ...  2019-09-03T15:05:42.231Z   \n",
       "2      34.0   61.0  0.08483  0.21  ...  2019-09-03T08:34:40.240Z   \n",
       "3      48.0   40.0  0.08234  0.13  ...  2019-09-03T16:38:26.278Z   \n",
       "4      38.0   56.0  0.03513  0.14  ...  2019-09-03T11:31:11.930Z   \n",
       "...     ...    ...      ...   ...  ...                       ...   \n",
       "19994  17.0  257.0  0.22090  0.16  ...  2016-03-10T21:49:00.417Z   \n",
       "19995   6.0  166.0  0.37470  0.17  ...  2016-03-10T00:10:50.565Z   \n",
       "19996   5.0  295.0  0.36750  0.12  ...  2016-03-10T10:37:27.609Z   \n",
       "19997  32.0   90.0  0.01213  0.14  ...  2016-03-10T00:10:49.251Z   \n",
       "19998  15.0  254.0  0.21180  0.20  ...  2016-03-10T03:08:30.174Z   \n",
       "\n",
       "                                           place        type horizontalError  \\\n",
       "0                   17km ESE of Navarro Head, CA  earthquake            0.51   \n",
       "1                 16km SSW of Searles Valley, CA  earthquake            0.22   \n",
       "2                         14km SE of Olancha, CA  earthquake            0.32   \n",
       "3                      12km NE of Ridgecrest, CA  earthquake            0.11   \n",
       "4                   15km S of Searles Valley, CA  earthquake            0.18   \n",
       "...                                          ...         ...             ...   \n",
       "19994   12km SW of Alberto Oviedo Mota, B.C., MX  earthquake            0.93   \n",
       "19995    31km SSW of Estacion Coahuila, B.C., MX  earthquake            1.11   \n",
       "19996    27km SSE of Estacion Coahuila, B.C., MX  earthquake            1.13   \n",
       "19997             21km WNW of Progreso, B.C., MX  earthquake            0.39   \n",
       "19998  12km WSW of Alberto Oviedo Mota, B.C., MX  earthquake            1.22   \n",
       "\n",
       "      depthError  magError  magNst     status  locationSource magSource  \n",
       "0           2.83     0.307    13.0  automatic              nc        nc  \n",
       "1           0.55     0.132    25.0  automatic              ci        ci  \n",
       "2           1.83     0.177    24.0  automatic              ci        ci  \n",
       "3           0.31       NaN     6.0   reviewed              ci        ci  \n",
       "4           0.29     0.208    25.0  automatic              ci        ci  \n",
       "...          ...       ...     ...        ...             ...       ...  \n",
       "19994      18.27     0.217    46.0   reviewed              ci        ci  \n",
       "19995      31.61     0.211     8.0   reviewed              ci        ci  \n",
       "19996      31.61     0.225    52.0   reviewed              ci        ci  \n",
       "19997       0.33     0.170    88.0   reviewed              ci        ci  \n",
       "19998       1.53     0.173    33.0   reviewed              ci        ci  \n",
       "\n",
       "[19999 rows x 22 columns]>"
      ]
     },
     "execution_count": 76,
     "metadata": {},
     "output_type": "execute_result"
    }
   ],
   "source": [
    "data.keys"
   ]
  },
  {
   "cell_type": "markdown",
   "metadata": {},
   "source": [
    "We're primarily interested in determining the relationship between relative frequency and magnitude.  Extract the magnitude variable from the pandas data frame using the 'mag' key.  \n",
    "\n",
    "Next, you'll need to determine the number of earthquakes that occured in the data as a function of magnitude.  This is easily done by deciding on a set of bins, and then counting the number of items in each bin.  This is also known as a [histogram](https://docs.scipy.org/doc/numpy/reference/generated/numpy.histogram.html), and is easily computed using either numpy or matplotlib.  You'll want to use a fairly large number of bins, say 50 (equally spaced).  *Note that the histogram function provided by either of the above libraries returns total counts rather than relative frequencies: you'll need to compute relative frequencies by dividing the returned counts by the total number of earthquakes in the dataset.*"
   ]
  },
  {
   "cell_type": "code",
   "execution_count": 77,
   "metadata": {},
   "outputs": [
    {
     "data": {
      "image/png": "[encoded data removed]",
      "text/plain": [
       "<Figure size 432x288 with 1 Axes>"
      ]
     },
     "metadata": {
      "needs_background": "light"
     },
     "output_type": "display_data"
    }
   ],
   "source": [
    "import numpy as np\n",
    "import matplotlib.pyplot as plt\n",
    "\n",
    "counts, bins, bars = plt.hist(data.mag, bins=50)\n",
    "plt.ylabel(\"Number of Earthquakes\")\n",
    "plt.xlabel(\"Magnitude of Earthquake\")\n",
    "plt.show()\n",
    "\n",
    "relfreq = counts/data.shape[0];"
   ]
  },
  {
   "cell_type": "markdown",
   "metadata": {},
   "source": [
    "**(20 pts) Make a plot with bin centroids on the $x$-axis and relative frequency on the $y$-axis.  Based on your results, please provide a few sentences describing whether the model $y = w_0 + w_1 x$ is a good fit to the data, if $x$ represents earthquake magnitude and $y$ represents relative frequency.**\n",
    "\n",
    "## Answer\n",
    "No the model of $y = w_0 + w_1 x$ is not a good fit because as the magnitude gets closer to around 2.5, the relative frequency gets significantly large and as the the magnitude gets closer to 7, the relative frequency goes to 0. This graph is similar to $y = 1 / x$ so naturally this means that if we plotted a line on this graph, a signficant amount of points wouldn't be anywhere near our line regardless of w0 and w1."
   ]
  },
  {
   "cell_type": "code",
   "execution_count": 78,
   "metadata": {},
   "outputs": [
    {
     "data": {
      "image/png": "[encoded data removed]",
      "text/plain": [
       "<Figure size 432x288 with 1 Axes>"
      ]
     },
     "metadata": {
      "needs_background": "light"
     },
     "output_type": "display_data"
    }
   ],
   "source": [
    "plt.plot(bins[1::], relfreq,'ro')\n",
    "plt.xlabel(\"Magnitude of Earthquake\")\n",
    "plt.ylabel(\"Relative Frequency\")\n",
    "plt.show()"
   ]
  },
  {
   "cell_type": "markdown",
   "metadata": {},
   "source": [
    "As it turns out, a physical model that gives the predicted relative frequency of earthquakes of different magnitudes can be derived from physics, and is given by a so-called *power-law*\n",
    "$$\n",
    "y = ax^b\n",
    "$$\n",
    "**(20pts) If you wanted to directly fit this power-law model to these data, would you be able to use the linear regression code that we've already developed to do so?  If so, how?  If not, why not?**\n",
    "\n",
    "## Answer\n",
    "No we can not use the code that we have already developed to fit the power-law model to the data because linear regression would result in a straight line which is not a good fit for this model. However, if we were going to use polynomial regression, we could use the code we made in the in class assignment from section IC1D (last complex implementation). We would just end up with the set all of the w's except the last one (w0, w1, ... , wn-1) equal to 0 and wn equal to a. After that, we just have to set our desired degree in that implementation, d, and that will be equal to b."
   ]
  },
  {
   "cell_type": "markdown",
   "metadata": {},
   "source": [
    "As it turns out, it is not possible to use linear regression to fit this model directly.  However, it can be done by using a clever transformation of the data.  **(20pts) Plot the base-10 logarithm of the event counts.  Now does a linear model seem like a good fit?  If the power law is a good fit to the untransformed data, why does it make sense that a linear model should fit the log-transformed data (HINT: take the logarithm of both sides of the power law)**\n",
    "\n",
    "**(UPDATE!)** I should have noted this before: The earthquake magnitude $x$ has *already* been log-transformed, which is to say that a magnitude 7 is 10 times more powerful than a magnitude 6.  The power law stated above applies to the earthquake strength prior to it having the logarithm taken.  As such, a more reasonable way to state the question would be as follows: A physical model that gives the predicted relative frequency of earthquakes of different magnitudes can be derived from physics and is given by a so-called *power-law*\n",
    "$$\n",
    "y = a P^b,\n",
    "$$\n",
    "where $P=10^x$. Show that taking the logarithm of both sides of this equation leads to a linear relationship between the earthquake magnitude $x$ and the log-frequency $\\text{log}_{10}(y)$. \n",
    "\n",
    "## Answer\n",
    "Yes after taking the log base 10 of the counts and then calculating the relative frequencies, the linear model does seem like it will be a good fit. If we take the log base 10 of both sides of the equation above (where $P=10^x$), we end up with the equation: $$log (y) = log(a) + b*log(10^x)$$ which simplifies to: $$log(y) = log(a) + b * x$$ which fits the linear model."
   ]
  },
  {
   "cell_type": "code",
   "execution_count": 79,
   "metadata": {},
   "outputs": [
    {
     "data": {
      "image/png": "[encoded data removed]",
      "text/plain": [
       "<Figure size 432x288 with 1 Axes>"
      ]
     },
     "metadata": {
      "needs_background": "light"
     },
     "output_type": "display_data"
    }
   ],
   "source": [
    "logcounts = np.ma.log10(counts).filled(0)\n",
    "plt.plot(bins[1::], logcounts,'ro')\n",
    "plt.xlabel(\"Magnitude of Earthquake\")\n",
    "plt.ylabel(\"Log of Event Counts\")\n",
    "plt.show()"
   ]
  },
  {
   "cell_type": "markdown",
   "metadata": {},
   "source": [
    "Finally, **(40pts) use one of the methods that you developed for linear regression in class to fit a line to the log-transformed counts.  What is the slope of that line?  Is the model a good fit for all sizes of earthquake?**\n",
    "\n",
    "## Answer\n",
    "The slope of the line that fit my model is -0.8923351091246547. Yes the line does seem to fit the model pretty well until around the magnitude 5.75 where the points seem to level out. A polynomial regression would be needed to fit the model perfectly after this point."
   ]
  },
  {
   "cell_type": "code",
   "execution_count": 80,
   "metadata": {},
   "outputs": [
    {
     "data": {
      "image/png": "[encoded data removed]",
      "text/plain": [
       "<Figure size 432x288 with 1 Axes>"
      ]
     },
     "metadata": {
      "needs_background": "light"
     },
     "output_type": "display_data"
    },
    {
     "name": "stdout",
     "output_type": "stream",
     "text": [
      "The slope is equal to  -0.8923351091246547\n"
     ]
    }
   ],
   "source": [
    "from numpy.linalg import inv\n",
    "\n",
    "plt.plot(bins[1::], logcounts,'ro')\n",
    "plt.xlabel(\"Magnitude of Earthquake\")\n",
    "plt.ylabel(\"Log of Event Counts\")\n",
    "\n",
    "vandmtx = np.ones((len(bins[1::]), 2))\n",
    "for i in range(1):\n",
    "    vandmtx[:,i+1] = x**(i+1)\n",
    "    \n",
    "w = np.dot(inv(np.dot(np.transpose(vandmtx), vandmtx)), np.dot(vandmtx_T, logcounts))\n",
    "            \n",
    "plt.plot(bins[1::], w[0]+w[1]*bins[1::], 'b-');\n",
    "plt.show()\n",
    "print(\"The slope is equal to \",w[1])"
   ]
  },
  {
   "cell_type": "code",
   "execution_count": null,
   "metadata": {},
   "outputs": [],
   "source": []
  }
 ],
 "metadata": {
  "kernelspec": {
   "display_name": "Python 3",
   "language": "python",
   "name": "python3"
  },
  "language_info": {
   "codemirror_mode": {
    "name": "ipython",
    "version": 3
   },
   "file_extension": ".py",
   "mimetype": "text/x-python",
   "name": "python",
   "nbconvert_exporter": "python",
   "pygments_lexer": "ipython3",
   "version": "3.7.1"
  }
 },
 "nbformat": 4,
 "nbformat_minor": 2
}
