{
 "cells": [
  {
   "cell_type": "code",
   "execution_count": 2,
   "metadata": {
    "collapsed": true
   },
   "outputs": [],
   "source": [
    "%matplotlib inline"
   ]
  },
  {
   "cell_type": "markdown",
   "metadata": {},
   "source": [
    "# Homework 1: Reading data and regression\n",
    "## Due September 5th\n",
    "\n",
    "In class we've been working on developing the tools for linear regression.  In this homework, we'll use those tools to show that one of the original 'big data' problems can be solved quite credibly with ordinary least squares.  Note that this exercise is primarily intended to do two things: 1) provide you with some practice gathering data, and 2) evaluate your ability to reason somewhat abstractly about models.  With respect to the second point, it is in your grade's interest to provide complete and well-reasoned answers to narrative questions posed.  A correct answer can be awarded very few points if its reasoning is absent or unclear, and an incorrect answer can be awarded full points if it is well argued.   \n",
    "\n",
    "Please turn in your work via github classroom.\n",
    "\n",
    "## The big one\n",
    "If you've ever lived in an area prone to seismic activity, you know that people are always a little apprehensive about *the big one*, that giant earthquake (Magnitude greater than 7) that is going to break the pots and collapse the overpasses.  However, the big one rarely happens... until it does.  What happens more frequently is smaller earthquakes.  And even more frequently than that, even smaller earthquakes.  In fact, it's long been understood that earthquake frequency has an inverse relationship with magnitude.  Here, we're going to quantify that relationship for the west coast of the US.  \n",
    "\n",
    "## Data wrangling\n",
    "The first thing that we'll need to do is to aquire a dataset that can help us say something about earthquake frequency.  Fortunately, the United States Geologic Survey keeps such a database.  \n",
    "\n",
    "First, navigate to https://earthquake.usgs.gov/earthquakes/search/.  This is the USGS' central repository for earthquake data.  We'll be interested in data from the last twenty years.  Enter the appropriate date.  Next, we're interested in data from the west coast of the lower 48.  Use the Custom Geographic Region button on the right side of the page, followed by the Draw Rectangle on the Map button.  Draw a rectangle around the west coast, from the Canadian to Mexican border.  Next, open the Output Options tab and select .csv (comma separated values, a plain text format).  Finally, under Limit Results, enter 19999 (the site will throw an error if you make this value bigger).  This series of commands will deliver the ~20k most recent earthquakes of all sizes to occur in this region of the world.  It may take a moment for their server to pull your query together. Download the file.\n",
    "\n",
    "Next, import the data into ipython.  This is easily done with [Pandas' read_csv function](https://pandas.pydata.org/pandas-docs/stable/reference/api/pandas.read_csv.html)."
   ]
  },
  {
   "cell_type": "code",
   "execution_count": 3,
   "metadata": {
    "collapsed": true
   },
   "outputs": [],
   "source": [
    "# Use pandas to import the earthquake data file here\n",
    "import pandas as pd\n",
    "data = pd.read_csv('query.csv')"
   ]
  },
  {
   "cell_type": "markdown",
   "metadata": {},
   "source": [
    "Interrogate the Pandas dataframe for the available fields using its built in method 'keys'\n"
   ]
  },
  {
   "cell_type": "code",
   "execution_count": 4,
   "metadata": {
    "collapsed": false
   },
   "outputs": [
    {
     "data": {
      "text/plain": [
       "<bound method DataFrame.keys of                            time   latitude   longitude   depth   mag magType  \\\n",
       "0      2019-09-03T15:05:01.400Z  39.134834 -123.589668  -0.020  3.35      ml   \n",
       "1      2019-09-03T12:41:59.250Z  35.645833 -117.496167   4.520  2.64      ml   \n",
       "2      2019-09-03T08:23:33.250Z  36.199000 -117.885000   2.540  2.59      ml   \n",
       "3      2019-09-03T03:41:29.170Z  35.703000 -117.588667   7.100  3.47      mw   \n",
       "4      2019-09-03T03:28:37.320Z  35.631000 -117.434333   2.970  2.67      ml   \n",
       "5      2019-09-03T02:32:14.860Z  35.671001 -117.521332   9.470  3.20      ml   \n",
       "6      2019-09-03T02:29:20.280Z  35.669167 -117.524333  10.020  2.79      ml   \n",
       "7      2019-09-03T02:23:09.490Z  35.515835 -117.413498   7.610  3.08      ml   \n",
       "8      2019-09-03T01:48:04.580Z  41.377666 -122.127335   3.270  2.54      md   \n",
       "9      2019-09-03T00:30:33.190Z  34.458667 -118.481167  16.900  2.74      ml   \n",
       "10     2019-09-02T17:34:12.360Z  41.374668 -122.136330   7.070  2.73      md   \n",
       "11     2019-09-02T08:03:26.350Z  35.663333 -117.525833   6.300  2.56      ml   \n",
       "12     2019-09-02T04:55:14.310Z  33.652500 -117.330500   3.200  2.77      ml   \n",
       "13     2019-09-02T04:05:04.610Z  33.649000 -117.333500   5.730  3.19      ml   \n",
       "14     2019-09-02T03:59:21.630Z  37.187000 -112.892000  17.650  2.95      ml   \n",
       "15     2019-09-01T23:35:06.760Z  35.655333 -117.463000   1.900  2.83      ml   \n",
       "16     2019-09-01T22:30:05.020Z  35.161833 -118.205667   5.050  2.50      ml   \n",
       "17     2019-09-01T22:07:54.970Z  31.679500 -115.912833  10.980  3.11      ml   \n",
       "18     2019-09-01T18:16:52.053Z  44.432800 -114.179200   5.000  2.60      ml   \n",
       "19     2019-09-01T16:41:06.875Z  36.875100 -104.841900   5.000  2.80      ml   \n",
       "20     2019-09-01T14:08:11.550Z  40.262833 -121.403999   7.510  2.66      md   \n",
       "21     2019-09-01T13:32:06.325Z  36.863800 -104.790600   5.000  2.80      ml   \n",
       "22     2019-09-01T11:29:43.714Z  37.292300 -104.938900   5.000  3.70      ml   \n",
       "23     2019-08-31T16:49:51.570Z  37.581665 -118.736832  10.270  2.68      ml   \n",
       "24     2019-08-31T13:37:56.435Z  31.328300 -103.088300   5.000  2.70      ml   \n",
       "25     2019-08-31T13:09:57.938Z  31.317600 -103.089100   2.390  2.50      ml   \n",
       "26     2019-08-31T11:18:32.830Z  40.861500 -123.104332  43.730  2.85      md   \n",
       "27     2019-08-31T07:26:56.980Z  35.829167 -117.681333   7.890  2.72      ml   \n",
       "28     2019-08-31T04:01:47.560Z  40.315166 -124.429169   8.620  2.51      md   \n",
       "29     2019-08-31T03:56:20.950Z  36.101002 -119.984833  -0.330  2.80      md   \n",
       "...                         ...        ...         ...     ...   ...     ...   \n",
       "19969  2010-04-25T04:16:09.830Z  40.416833 -125.730333   2.122  2.69      md   \n",
       "19970  2010-04-25T03:25:42.120Z  31.966500 -115.171333  14.396  3.79      ml   \n",
       "19971  2010-04-25T02:34:45.200Z  32.291167 -115.393333   7.261  3.09      ml   \n",
       "19972  2010-04-25T02:33:22.160Z  32.354500 -115.399333  14.951  3.42      ml   \n",
       "19973  2010-04-25T01:53:21.560Z  32.119000 -115.201000  19.192  2.50      ml   \n",
       "19974  2010-04-24T22:53:12.840Z  32.352833 -115.326833   9.534  2.86      ml   \n",
       "19975  2010-04-24T21:59:30.550Z  32.017500 -115.049000   8.949  2.91      ml   \n",
       "19976  2010-04-24T21:05:38.890Z  32.436500 -115.557167   1.706  2.70      ml   \n",
       "19977  2010-04-24T20:06:59.200Z  32.222500 -115.345667   9.391  2.86      ml   \n",
       "19978  2010-04-24T19:17:00.060Z  31.841333 -114.872667   9.884  2.72      ml   \n",
       "19979  2010-04-24T18:56:50.300Z  32.190833 -115.247500  14.090  2.52      ml   \n",
       "19980  2010-04-24T15:14:18.920Z  32.216833 -115.309833  10.523  2.63      ml   \n",
       "19981  2010-04-24T15:13:48.070Z  32.684167 -115.804833   8.225  2.52      ml   \n",
       "19982  2010-04-24T14:57:29.850Z  32.258833 -115.281833   9.823  2.74      ml   \n",
       "19983  2010-04-24T14:57:22.460Z  32.204667 -115.275000  15.913  2.59      ml   \n",
       "19984  2010-04-24T14:01:15.710Z  32.070500 -115.142167   9.396  2.62      ml   \n",
       "19985  2010-04-24T13:57:51.710Z  32.224000 -115.294000  15.433  3.32      ml   \n",
       "19986  2010-04-24T12:02:44.950Z  32.146000 -115.255000  14.356  3.28      ml   \n",
       "19987  2010-04-24T11:20:53.010Z  31.806833 -114.896500   8.998  2.56      ml   \n",
       "19988  2010-04-24T09:29:54.470Z  31.958167 -115.028500  13.949  2.60      ml   \n",
       "19989  2010-04-24T08:34:18.500Z  31.900000 -114.884333  13.509  2.64      ml   \n",
       "19990  2010-04-24T07:27:23.390Z  31.842333 -114.889500   8.998  2.51      ml   \n",
       "19991  2010-04-24T06:34:45.740Z  32.258333 -115.401667  -0.609  2.65      ml   \n",
       "19992  2010-04-24T06:07:49.000Z  32.642167 -115.734167   3.885  3.17      ml   \n",
       "19993  2010-04-24T04:24:14.580Z  33.160333 -116.446333  13.430  2.88      ml   \n",
       "19994  2010-04-24T03:54:33.020Z  32.141667 -115.255333   9.389  2.50      ml   \n",
       "19995  2010-04-24T03:25:41.590Z  31.927167 -115.090833   9.246  3.00      ml   \n",
       "19996  2010-04-24T03:05:40.470Z  31.961000 -114.914333   8.949  2.64      ml   \n",
       "19997  2010-04-24T03:02:05.770Z  32.674167 -115.779333   9.115  2.68      ml   \n",
       "19998  2010-04-24T01:48:33.620Z  32.173167 -115.274333   8.730  2.57      ml   \n",
       "\n",
       "         nst    gap      dmin   rms    ...                      updated  \\\n",
       "0       24.0  161.0  0.074710  0.15    ...     2019-09-03T19:10:40.014Z   \n",
       "1       38.0   37.0  0.046200  0.18    ...     2019-09-03T15:05:42.231Z   \n",
       "2       34.0   61.0  0.084830  0.21    ...     2019-09-03T08:34:40.240Z   \n",
       "3       48.0   40.0  0.082340  0.13    ...     2019-09-03T16:38:26.278Z   \n",
       "4       38.0   56.0  0.035130  0.14    ...     2019-09-03T11:31:11.930Z   \n",
       "5       56.0   62.0  0.097110  0.16    ...     2019-09-03T02:54:40.030Z   \n",
       "6       40.0   37.0  0.059510  0.15    ...     2019-09-03T02:40:23.250Z   \n",
       "7       68.0   33.0  0.040970  0.17    ...     2019-09-03T02:51:24.628Z   \n",
       "8        7.0   95.0  0.054910  0.03    ...     2019-09-03T15:09:25.531Z   \n",
       "9       83.0   14.0  0.048760  0.27    ...     2019-09-03T08:24:36.903Z   \n",
       "10      20.0  117.0  0.062190  0.19    ...     2019-09-03T15:17:32.114Z   \n",
       "11      37.0   36.0  0.054220  0.16    ...     2019-09-03T00:29:31.381Z   \n",
       "12     103.0   28.0  0.079770  0.22    ...     2019-09-02T17:36:38.486Z   \n",
       "13     139.0   29.0  0.077190  0.24    ...     2019-09-03T17:52:27.683Z   \n",
       "14      23.0   44.0  0.179100  0.20    ...     2019-09-03T13:23:32.379Z   \n",
       "15      36.0   42.0  0.033470  0.16    ...     2019-09-01T23:45:41.130Z   \n",
       "16      61.0   24.0  0.155300  0.15    ...     2019-09-03T19:08:04.240Z   \n",
       "17      12.0  128.0  0.307600  0.15    ...     2019-09-03T17:38:52.354Z   \n",
       "18       NaN  111.0  0.886000  0.68    ...     2019-09-02T17:14:28.619Z   \n",
       "19       NaN   72.0  0.075000  0.68    ...     2019-09-01T19:28:47.040Z   \n",
       "20      12.0  124.0       NaN  0.08    ...     2019-09-01T16:00:03.576Z   \n",
       "21       NaN   94.0  0.085000  0.62    ...     2019-09-01T19:23:41.040Z   \n",
       "22       NaN   61.0  0.210000  1.10    ...     2019-09-03T12:00:29.848Z   \n",
       "23      28.0   92.0  0.073780  0.05    ...     2019-08-31T23:42:04.932Z   \n",
       "24       NaN   46.0  0.280000  0.41    ...     2019-09-02T14:20:53.040Z   \n",
       "25       NaN   46.0  0.281000  0.55    ...     2019-09-02T14:10:13.040Z   \n",
       "26      24.0   80.0  0.147300  0.15    ...     2019-08-31T18:27:00.294Z   \n",
       "27      38.0   42.0  0.069430  0.19    ...     2019-08-31T13:18:00.411Z   \n",
       "28      14.0  267.0  0.071390  0.08    ...     2019-08-31T06:44:03.400Z   \n",
       "29      61.0   53.0  0.257300  0.23    ...     2019-08-31T06:29:03.198Z   \n",
       "...      ...    ...       ...   ...    ...                          ...   \n",
       "19969   24.0  297.0  1.063000  0.25    ...     2017-01-22T07:09:24.920Z   \n",
       "19970   17.0  277.0  0.344900  0.24    ...     2016-03-10T13:34:43.114Z   \n",
       "19971   24.0  218.0  0.148200  0.17    ...     2016-03-10T16:41:09.600Z   \n",
       "19972   25.0  198.0  0.102800  0.19    ...     2016-03-10T04:39:06.235Z   \n",
       "19973   13.0  260.0  0.211500  0.17    ...     2016-03-10T09:08:27.092Z   \n",
       "19974   23.0  193.0  0.068990  0.18    ...     2016-03-10T07:40:56.071Z   \n",
       "19975   10.0  278.0  0.285400  0.32    ...     2016-03-10T06:15:26.289Z   \n",
       "19976   27.0  169.0  0.213900  0.16    ...     2016-03-10T03:09:05.139Z   \n",
       "19977   19.0  235.0  0.199400  0.18    ...     2016-03-10T18:15:39.049Z   \n",
       "19978    4.0  193.0  0.683300  0.14    ...     2016-03-10T21:49:22.805Z   \n",
       "19979   16.0  251.0  0.183000  0.08    ...     2016-03-10T23:21:45.709Z   \n",
       "19980   12.0  244.0  0.202100  0.17    ...     2016-03-10T03:08:58.028Z   \n",
       "19981   36.0   73.0  0.035810  0.13    ...     2016-03-10T21:49:12.570Z   \n",
       "19982   17.0  231.0  0.161400  0.19    ...     2016-03-10T15:03:03.565Z   \n",
       "19983   22.0  250.0  0.194700  0.18    ...     2016-03-10T07:40:43.424Z   \n",
       "19984   15.0  267.0  0.238200  0.25    ...     2016-03-10T01:39:51.526Z   \n",
       "19985   20.0  243.0  0.195200  0.15    ...     2016-03-10T01:39:50.110Z   \n",
       "19986   20.0  257.0  0.217600  0.18    ...     2016-03-10T07:40:38.827Z   \n",
       "19987    3.0  310.0  0.517600  0.10    ...     2016-03-10T15:03:00.306Z   \n",
       "19988   11.0  283.0  0.346000  0.19    ...     2016-03-10T03:08:47.741Z   \n",
       "19989    6.0  188.0  0.433400  0.28    ...     2016-03-10T10:37:32.632Z   \n",
       "19990    4.0  191.0  0.485800  0.22    ...     2016-03-10T07:40:35.014Z   \n",
       "19991   20.0  232.0  0.180300  0.24    ...     2016-03-10T21:49:03.116Z   \n",
       "19992   39.0  156.0  0.009705  0.16    ...     2016-03-10T04:38:36.357Z   \n",
       "19993   75.0   44.0  0.110300  0.19    ...     2016-03-10T09:08:02.594Z   \n",
       "19994   17.0  257.0  0.220900  0.16    ...     2016-03-10T21:49:00.417Z   \n",
       "19995    6.0  166.0  0.374700  0.17    ...     2016-03-10T00:10:50.565Z   \n",
       "19996    5.0  295.0  0.367500  0.12    ...     2016-03-10T10:37:27.609Z   \n",
       "19997   32.0   90.0  0.012130  0.14    ...     2016-03-10T00:10:49.251Z   \n",
       "19998   15.0  254.0  0.211800  0.20    ...     2016-03-10T03:08:30.174Z   \n",
       "\n",
       "                                           place        type horizontalError  \\\n",
       "0                   17km ESE of Navarro Head, CA  earthquake            0.51   \n",
       "1                 16km SSW of Searles Valley, CA  earthquake            0.22   \n",
       "2                         14km SE of Olancha, CA  earthquake            0.32   \n",
       "3                      12km NE of Ridgecrest, CA  earthquake            0.11   \n",
       "4                   15km S of Searles Valley, CA  earthquake            0.18   \n",
       "5                     15km ENE of Ridgecrest, CA  earthquake            0.18   \n",
       "6                     15km ENE of Ridgecrest, CA  earthquake            0.19   \n",
       "7                    26km NE of Johannesburg, CA  earthquake            0.17   \n",
       "8                          14km N of McCloud, CA  earthquake            0.32   \n",
       "9                   5km NNE of Santa Clarita, CA  earthquake            0.26   \n",
       "10                         13km N of McCloud, CA  earthquake            0.45   \n",
       "11                    14km ENE of Ridgecrest, CA  earthquake            0.21   \n",
       "12                    2km S of Lake Elsinore, CA  earthquake            0.19   \n",
       "13                2km NE of Lakeland Village, CA  earthquake            0.13   \n",
       "14                     21km NNE of Hildale, Utah  earthquake            0.40   \n",
       "15                14km SSW of Searles Valley, CA  earthquake            0.19   \n",
       "16                        12km NNW of Mojave, CA  earthquake            0.12   \n",
       "17                 62km E of Maneadero, B.C., MX  earthquake            0.37   \n",
       "18                     9km SSE of Challis, Idaho  earthquake            1.50   \n",
       "19                   36km W of Raton, New Mexico  earthquake            1.80   \n",
       "20                       15km WSW of Chester, CA  earthquake            0.35   \n",
       "21                   31km W of Raton, New Mexico  earthquake            1.90   \n",
       "22              39km SSW of Walsenburg, Colorado  earthquake            1.60   \n",
       "23                     6km WNW of Toms Place, CA  earthquake            0.36   \n",
       "24                   34km SSW of Monahans, Texas  earthquake            1.50   \n",
       "25                   35km SSW of Monahans, Texas  earthquake            0.80   \n",
       "26                    20km NW of Weaverville, CA  earthquake            0.72   \n",
       "27                      23km N of Ridgecrest, CA  earthquake            0.23   \n",
       "28                        12km W of Petrolia, CA  earthquake            1.42   \n",
       "29                10km NNW of Kettleman City, CA  earthquake            0.34   \n",
       "...                                          ...         ...             ...   \n",
       "19969       off the coast of Northern California  earthquake           10.77   \n",
       "19970    29km S of Alberto Oviedo Mota, B.C., MX  earthquake            2.66   \n",
       "19971                20km WSW of Delta, B.C., MX  earthquake            0.89   \n",
       "19972                  19km W of Delta, B.C., MX  earthquake            1.00   \n",
       "19973  12km SSW of Alberto Oviedo Mota, B.C., MX  earthquake            1.51   \n",
       "19974                  13km W of Delta, B.C., MX  earthquake            1.06   \n",
       "19975    20km SSW of Estacion Coahuila, B.C., MX  earthquake            2.43   \n",
       "19976               16km S of Progreso, B.C., MX  earthquake            0.70   \n",
       "19977    17km W of Alberto Oviedo Mota, B.C., MX  earthquake            0.99   \n",
       "19978    41km SSE of Estacion Coahuila, B.C., MX  earthquake            0.92   \n",
       "19979   8km WSW of Alberto Oviedo Mota, B.C., MX  earthquake            1.22   \n",
       "19980    13km W of Alberto Oviedo Mota, B.C., MX  earthquake            1.77   \n",
       "19981                   18km ESE of Ocotillo, CA  earthquake            0.27   \n",
       "19982  11km WNW of Alberto Oviedo Mota, B.C., MX  earthquake            1.55   \n",
       "19983  10km WSW of Alberto Oviedo Mota, B.C., MX  earthquake            1.07   \n",
       "19984    18km S of Alberto Oviedo Mota, B.C., MX  earthquake            2.32   \n",
       "19985    12km W of Alberto Oviedo Mota, B.C., MX  earthquake            1.40   \n",
       "19986   12km SW of Alberto Oviedo Mota, B.C., MX  earthquake            1.11   \n",
       "19987    44km SSE of Estacion Coahuila, B.C., MX  earthquake            1.40   \n",
       "19988      26km S of Estacion Coahuila, B.C., MX  earthquake            0.97   \n",
       "19989    34km SSE of Estacion Coahuila, B.C., MX  earthquake            1.55   \n",
       "19990    40km SSE of Estacion Coahuila, B.C., MX  earthquake            1.33   \n",
       "19991    22km W of Alberto Oviedo Mota, B.C., MX  earthquake            0.93   \n",
       "19992             16km WNW of Progreso, B.C., MX  earthquake            0.30   \n",
       "19993            12km SSW of Borrego Springs, CA  earthquake            0.21   \n",
       "19994   12km SW of Alberto Oviedo Mota, B.C., MX  earthquake            0.93   \n",
       "19995    31km SSW of Estacion Coahuila, B.C., MX  earthquake            1.11   \n",
       "19996    27km SSE of Estacion Coahuila, B.C., MX  earthquake            1.13   \n",
       "19997             21km WNW of Progreso, B.C., MX  earthquake            0.39   \n",
       "19998  12km WSW of Alberto Oviedo Mota, B.C., MX  earthquake            1.22   \n",
       "\n",
       "      depthError  magError  magNst     status  locationSource magSource  \n",
       "0           2.83     0.307    13.0  automatic              nc        nc  \n",
       "1           0.55     0.132    25.0  automatic              ci        ci  \n",
       "2           1.83     0.177    24.0  automatic              ci        ci  \n",
       "3           0.31       NaN     6.0   reviewed              ci        ci  \n",
       "4           0.29     0.208    25.0  automatic              ci        ci  \n",
       "5           0.44     0.228    17.0  automatic              ci        ci  \n",
       "6           0.38     0.134    25.0  automatic              ci        ci  \n",
       "7           0.57     0.229    21.0  automatic              ci        ci  \n",
       "8           1.31     0.060     4.0  automatic              nc        nc  \n",
       "9           0.73     0.203    26.0  automatic              ci        ci  \n",
       "10          1.20     0.160    20.0  automatic              nc        nc  \n",
       "11          0.60     0.160    24.0  automatic              ci        ci  \n",
       "12          0.53     0.179    25.0  automatic              ci        ci  \n",
       "13          0.64     0.157   194.0   reviewed              ci        ci  \n",
       "14          0.81     0.158    11.0   reviewed              uu        uu  \n",
       "15          0.33     0.188    25.0  automatic              ci        ci  \n",
       "16          0.96     0.226   183.0   reviewed              ci        ci  \n",
       "17          0.83     0.162    53.0   reviewed              ci        ci  \n",
       "18          1.90     0.052    49.0   reviewed              us        us  \n",
       "19          1.90     0.045    66.0   reviewed              us        us  \n",
       "20          1.79     0.090    17.0  automatic              nc        nc  \n",
       "21          1.80     0.045    66.0   reviewed              us        us  \n",
       "22          2.00     0.041   128.0   reviewed              us        us  \n",
       "23          0.76     0.208    13.0  automatic              nc        nc  \n",
       "24          0.90     0.128    18.0   reviewed              us        us  \n",
       "25          6.30     0.128    17.0   reviewed              us        us  \n",
       "26          0.93     0.100    10.0  automatic              nc        nc  \n",
       "27          0.75     0.196    25.0  automatic              ci        ci  \n",
       "28          0.56     0.130    12.0  automatic              nc        nc  \n",
       "29          5.64     0.190    42.0  automatic              nc        nc  \n",
       "...          ...       ...     ...        ...             ...       ...  \n",
       "19969       7.35     0.225    18.0   reviewed              nc        nc  \n",
       "19970      31.61     0.186   165.0   reviewed              ci        ci  \n",
       "19971      31.61     0.137    47.0   reviewed              ci        ci  \n",
       "19972       2.14     0.212    67.0   reviewed              ci        ci  \n",
       "19973       0.80     0.278    50.0   reviewed              ci        ci  \n",
       "19974       2.36     0.259    86.0   reviewed              ci        ci  \n",
       "19975      29.23     0.212    72.0   reviewed              ci        ci  \n",
       "19976       1.61     0.127    75.0   reviewed              ci        ci  \n",
       "19977      19.29     0.199    80.0   reviewed              ci        ci  \n",
       "19978      31.61     0.246    49.0   reviewed              ci        ci  \n",
       "19979       0.80     0.318    16.0   reviewed              ci        ci  \n",
       "19980       3.24     0.213    29.0   reviewed              ci        ci  \n",
       "19981       0.32     0.131    70.0   reviewed              ci        ci  \n",
       "19982       3.14     0.197    65.0   reviewed              ci        ci  \n",
       "19983       1.76     0.154    10.0   reviewed              ci        ci  \n",
       "19984      24.00     0.240    48.0   reviewed              ci        ci  \n",
       "19985       2.13     0.260   124.0   reviewed              ci        ci  \n",
       "19986       2.26     0.205   123.0   reviewed              ci        ci  \n",
       "19987      31.61     0.121     7.0   reviewed              ci        ci  \n",
       "19988      31.61     0.223    45.0   reviewed              ci        ci  \n",
       "19989       2.74     0.079     5.0   reviewed              ci        ci  \n",
       "19990      31.61     0.071     4.0   reviewed              ci        ci  \n",
       "19991       1.79     0.153    63.0   reviewed              ci        ci  \n",
       "19992       0.33     0.158   132.0   reviewed              ci        ci  \n",
       "19993       0.39     0.139   127.0   reviewed              ci        ci  \n",
       "19994      18.27     0.217    46.0   reviewed              ci        ci  \n",
       "19995      31.61     0.211     8.0   reviewed              ci        ci  \n",
       "19996      31.61     0.225    52.0   reviewed              ci        ci  \n",
       "19997       0.33     0.170    88.0   reviewed              ci        ci  \n",
       "19998       1.53     0.173    33.0   reviewed              ci        ci  \n",
       "\n",
       "[19999 rows x 22 columns]>"
      ]
     },
     "execution_count": 4,
     "metadata": {},
     "output_type": "execute_result"
    }
   ],
   "source": [
    "data.keys"
   ]
  },
  {
   "cell_type": "markdown",
   "metadata": {},
   "source": [
    "We're primarily interested in determining the relationship between relative frequency and magnitude.  Extract the magnitude variable from the pandas data frame using the 'mag' key.  \n",
    "\n",
    "Next, you'll need to determine the number of earthquakes that occured in the data as a function of magnitude.  This is easily done by deciding on a set of bins, and then counting the number of items in each bin.  This is also known as a [histogram](https://docs.scipy.org/doc/numpy/reference/generated/numpy.histogram.html), and is easily computed using either numpy or matplotlib.  You'll want to use a fairly large number of bins, say 50 (equally spaced).  *Note that the histogram function provided by either of the above libraries returns total counts rather than relative frequencies: you'll need to compute relative frequencies by dividing the returned counts by the total number of earthquakes in the dataset.*"
   ]
  },
  {
   "cell_type": "code",
   "execution_count": 19,
   "metadata": {
    "collapsed": false
   },
   "outputs": [
    {
     "data": {
      "image/png": "[encoded data removed]",
      "text/plain": [
       "<Figure size 600x400 with 1 Axes>"
      ]
     },
     "metadata": {},
     "output_type": "display_data"
    }
   ],
   "source": [
    "import numpy as np\n",
    "import matplotlib.pyplot as plt\n",
    "\n",
    "counts, bins, bars = plt.hist(data.mag, bins=50)\n",
    "plt.ylabel(\"Number of Earthquakes\")\n",
    "plt.xlabel(\"Magnitude of Earthquake\")\n",
    "plt.show()\n",
    "\n",
    "relfreq = counts/data.shape[0];"
   ]
  },
  {
   "cell_type": "markdown",
   "metadata": {},
   "source": [
    "**(20 pts) Make a plot with bin centroids on the $x$-axis and relative frequency on the $y$-axis.  Based on your results, please provide a few sentences describing whether the model $y = w_0 + w_1 x$ is a good fit to the data, if $x$ represents earthquake magnitude and $y$ represents relative frequency.**\n",
    "\n",
    "No the model of $y = w_0 + w_1 x$ is not a good fit because as the magnitude gets closer to around 2.5, the relative frequency gets significantly large and as the the magnitude gets closer to 7, the relative frequency goes to 0. This graph is similar to $y = 1 / x$ so naturally this means that if we plotted a line on this graph, a signficant amount of points wouldn't be anywhere near our line regardless of w0 and w1."
   ]
  },
  {
   "cell_type": "code",
   "execution_count": 27,
   "metadata": {
    "collapsed": false
   },
   "outputs": [
    {
     "data": {
      "image/png": "[encoded data removed]",
      "text/plain": [
       "<Figure size 600x400 with 1 Axes>"
      ]
     },
     "metadata": {},
     "output_type": "display_data"
    }
   ],
   "source": [
    "plt.plot(bins[1::], relfreq,'ro')\n",
    "plt.xlabel(\"Magnitude of Earthquake\")\n",
    "plt.ylabel(\"Relative Frequency\")\n",
    "plt.show()"
   ]
  },
  {
   "cell_type": "markdown",
   "metadata": {},
   "source": [
    "As it turns out, a physical model that gives the predicted relative frequency of earthquakes of different magnitudes can be derived from physics, and is given by a so-called *power-law*\n",
    "$$\n",
    "y = ax^b\n",
    "$$\n",
    "**(20pts) If you wanted to directly fit this power-law model to these data, would you be able to use the linear regression code that we've already developed to do so?  If so, how?  If not, why not?**\n",
    "\n",
    "Yes we can use the code we made in the in class assignment from section IC1D (last complex implementation). We would just end up with the set all of the w's except the last one (w0, w1, ... , wn-1) equal to 0 and wn equal to a. After that, we just have to set our desired degree in that implementation, d, and that will be equal to b."
   ]
  },
  {
   "cell_type": "markdown",
   "metadata": {},
   "source": [
    "As it turns out, it is not possible to use linear regression to fit this model directly.  However, it can be done by using a clever transformation of the data.  **(20pts) Plot the base-10 logarithm of the event counts.  Now does a linear model seem like a good fit?  If the power law is a good fit to the untransformed data, why does it make sense that a linear model should fit the log-transformed data (HINT: take the logarithm of both sides of the power law)**\n",
    "\n",
    "**(UPDATE!)** I should have noted this before: The earthquake magnitude $x$ has *already* been log-transformed, which is to say that a magnitude 7 is 10 times more powerful than a magnitude 6.  The power law stated above applies to the earthquake strength prior to it having the logarithm taken.  As such, a more reasonable way to state the question would be as follows: A physical model that gives the predicted relative frequency of earthquakes of different magnitudes can be derived from physics and is given by a so-called *power-law*\n",
    "$$\n",
    "y = a P^b,\n",
    "$$\n",
    "where $P=10^x$. Show that taking the logarithm of both sides of this equation leads to a linear relationship between the earthquake magnitude $x$ and the log-frequency $\\text{log}_{10}(y)$. \n",
    "\n",
    "Yes after taking the log base 10 of the counts and then calculating the relative frequencies, the linear model does seem like it will be a good fit. If we take the log base 10 of both sides of the equation above (where $P=10^x$), we end up with the equation $log (y) = log(a) + b*log(10^x)$ which simplifies to $log(y) = log(a) + b * x$ which fits the linear model."
   ]
  },
  {
   "cell_type": "code",
   "execution_count": 31,
   "metadata": {
    "collapsed": false
   },
   "outputs": [
    {
     "data": {
      "image/png": "[encoded data removed]",
      "text/plain": [
       "<Figure size 600x400 with 1 Axes>"
      ]
     },
     "metadata": {},
     "output_type": "display_data"
    }
   ],
   "source": [
    "relfreq = np.log10(counts)/data.shape[0];\n",
    "plt.plot(bins[1::], relfreq,'ro')\n",
    "plt.xlabel(\"Magnitude of Earthquake\")\n",
    "plt.ylabel(\"Log of Relative Frequency\")\n",
    "plt.show()"
   ]
  },
  {
   "cell_type": "markdown",
   "metadata": {},
   "source": [
    "Finally, **(40pts) use one of the methods that you developed for linear regression in class to fit a line to the log-transformed counts.  What is the slope of that line?  Is the model a good fit for all sizes of earthquake?**\n",
    "\n",
    "!Answers go here"
   ]
  },
  {
   "cell_type": "code",
   "execution_count": 38,
   "metadata": {
    "collapsed": false
   },
   "outputs": [
    {
     "data": {
      "image/png": "[encoded data removed]",
      "text/plain": [
       "<Figure size 600x400 with 1 Axes>"
      ]
     },
     "metadata": {},
     "output_type": "display_data"
    },
    {
     "name": "stdout",
     "output_type": "stream",
     "text": [
      "(0.3545236647059806, -0.1276497715873346, 2.2128743432915526e-14)\n"
     ]
    }
   ],
   "source": [
    "plt.plot(bins[1::], relfreq,'ro')\n",
    "plt.xlabel(\"Magnitude of Earthquake\")\n",
    "plt.ylabel(\"Log of Relative Frequency\")\n",
    "\n",
    "x = bins[1::]\n",
    "y = relfreq\n",
    "\n",
    "minRes = np.inf\n",
    "bestw0 = 0\n",
    "bestw1 = 0\n",
    "\n",
    "for i in range(0,100000):\n",
    "    residual = 1\n",
    "    w0 = np.random.rand()*2-1\n",
    "    w1 = np.random.rand()*2-1\n",
    "    \n",
    "    for i in range(len(x)):\n",
    "        squared_errors = ((w0+w1*x[i]) - y[i])**2\n",
    "        residual = np.sum(squared_errors)\n",
    "        if(residual < minRes):\n",
    "            minRes = residual\n",
    "            bestw0 = w0\n",
    "            bestw1 = w1\n",
    "            \n",
    "plt.plot(x, bestw0+bestw1*x);\n",
    "plt.show()\n",
    "\n",
    "print(bestw0, bestw1, minRes)"
   ]
  },
  {
   "cell_type": "code",
   "execution_count": null,
   "metadata": {
    "collapsed": true
   },
   "outputs": [],
   "source": []
  }
 ],
 "metadata": {
  "kernelspec": {
   "display_name": "Python 2",
   "language": "python",
   "name": "python2"
  },
  "language_info": {
   "codemirror_mode": {
    "name": "ipython",
    "version": 2
   },
   "file_extension": ".py",
   "mimetype": "text/x-python",
   "name": "python",
   "nbconvert_exporter": "python",
   "pygments_lexer": "ipython2",
   "version": "2.7.11"
  }
 },
 "nbformat": 4,
 "nbformat_minor": 2
}
